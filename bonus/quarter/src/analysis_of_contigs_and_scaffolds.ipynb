{
 "cells": [
  {
   "cell_type": "markdown",
   "id": "99c70ab1",
   "metadata": {},
   "source": [
    "Анализ контигов и скаффолдов, полученных в ходе сборки генома бактерии, выделенной из воды с нефтью, на основании парно-концевых чтений(paired-end, PE) и чтений типа mate-pairs(MP) с помощью программ platanus. Количество чтений уменьшено в 4 раза (1250000 PE, 375000 MP)."
   ]
  },
  {
   "cell_type": "code",
   "execution_count": 1,
   "id": "227fd2fb",
   "metadata": {},
   "outputs": [],
   "source": [
    "def analyse(filename):\n",
    "    \n",
    "    f = open(filename, 'r', encoding=\"utf-8\")\n",
    "    \n",
    "    count = 0\n",
    "    lengths = []\n",
    "    common_length = 0\n",
    "    longest = ''\n",
    "    longest_length = 0\n",
    "    read = ''\n",
    "    read_length = 0\n",
    "    n50 = 0\n",
    "    \n",
    "    for line in f:\n",
    "        if line.find('>') != -1:\n",
    "            read_length = len(read)\n",
    "            if read_length != 0:\n",
    "                lengths.append(read_length)\n",
    "                common_length += read_length\n",
    "                if read_length > longest_length:\n",
    "                    longest_length = read_length\n",
    "                    longest = read\n",
    "            read = ''\n",
    "            read_length = 0\n",
    "            count += 1\n",
    "        else:\n",
    "            read += ''.join(line.split())\n",
    "    read_length = len(read)\n",
    "    if read_length != 0:\n",
    "        lengths.append(read_length)\n",
    "        common_length += read_length\n",
    "        if read_length > longest_length:\n",
    "            longest_length = read_length\n",
    "            longest = read\n",
    "    \n",
    "    lengths = sorted(lengths, reverse=True)\n",
    "    new_sum = 0\n",
    "    for i in range(len(lengths)):\n",
    "        new_sum += lengths[i]\n",
    "        n50 = lengths[i]\n",
    "        if new_sum >= common_length / 2:\n",
    "            break\n",
    "\n",
    "    f.close()\n",
    "    \n",
    "    return count, common_length, longest_length, n50, longest, lengths.count(longest_length)"
   ]
  },
  {
   "cell_type": "code",
   "execution_count": 2,
   "id": "6cc03464",
   "metadata": {},
   "outputs": [
    {
     "name": "stdout",
     "output_type": "stream",
     "text": [
      "Анализ контигов\n",
      "\n",
      "Общее количество контигов: 972\n",
      "Общая длина контигов: 3916798\n",
      "Длина самого длинного контига: 259998\n",
      "N50: 81116\n",
      "\n"
     ]
    }
   ],
   "source": [
    "contigs_count, contigs_common_length, longest_contig_length, contigs_n50, longest_contig, longest_contig_count = analyse('../data/Oil4_contig.fa')\n",
    "\n",
    "print(\"Анализ контигов\")\n",
    "print()\n",
    "print(\"Общее количество контигов:\", str(contigs_count))\n",
    "print(\"Общая длина контигов:\", str(contigs_common_length))\n",
    "print(\"Длина самого длинного контига:\", str(longest_contig_length))\n",
    "print(\"N50:\", contigs_n50)\n",
    "print()\n",
    "# print(\"Количество контигов с максимальной длиной и самый длинный контиг\")\n",
    "# longest_contig_count, longest_contig"
   ]
  },
  {
   "cell_type": "code",
   "execution_count": 3,
   "id": "f8696663",
   "metadata": {},
   "outputs": [
    {
     "name": "stdout",
     "output_type": "stream",
     "text": [
      "Анализ скаффолдов\n",
      "\n",
      "Общее количество скаффолдов: 120\n",
      "Общая длина скаффолдов: 3856317\n",
      "Длина самого длинного скаффолда: 2084096\n",
      "N50: 2084096\n",
      "\n"
     ]
    }
   ],
   "source": [
    "scaffolds_count, scaffolds_common_length, longest_scaffold_length, scaffolds_n50, longest_scaffold, longest_scaffold_count = analyse('../data/Oil4_scaffold.fa')\n",
    "\n",
    "print(\"Анализ скаффолдов\")\n",
    "print()\n",
    "print(\"Общее количество скаффолдов:\", str(scaffolds_count))\n",
    "print(\"Общая длина скаффолдов:\", str(scaffolds_common_length))\n",
    "print(\"Длина самого длинного скаффолда:\", str(longest_scaffold_length))\n",
    "print(\"N50:\", scaffolds_n50)\n",
    "print()\n",
    "# print(\"Количество скаффолдов с максимальной длиной и самый длинный скаффолд\")\n",
    "# longest_scaffold_count, longest_scaffold"
   ]
  },
  {
   "cell_type": "code",
   "execution_count": 4,
   "id": "d25c9ccc",
   "metadata": {},
   "outputs": [],
   "source": [
    "def longest_scaffold_gaps_analyse(data):\n",
    "\n",
    "    gaps_count = 0\n",
    "    gaps_common_length = 0\n",
    "    previous_symbol_is_gap = False\n",
    "\n",
    "    for symbol in data:\n",
    "        if symbol == 'N':\n",
    "            if not previous_symbol_is_gap:\n",
    "                gaps_count += 1\n",
    "            gaps_common_length += 1\n",
    "            previous_symbol_is_gap = True\n",
    "        else:\n",
    "            previous_symbol_is_gap = False\n",
    "\n",
    "    \n",
    "    return gaps_count, gaps_common_length"
   ]
  },
  {
   "cell_type": "code",
   "execution_count": 5,
   "id": "26727280",
   "metadata": {},
   "outputs": [
    {
     "name": "stdout",
     "output_type": "stream",
     "text": [
      "Количество гэпов самого длинного скаффолда: 64\n",
      "Общая длина гэпов самого длинного скаффолда: 7450\n"
     ]
    }
   ],
   "source": [
    "gaps_count, gaps_common_length = longest_scaffold_gaps_analyse(longest_scaffold)\n",
    "print(\"Количество гэпов самого длинного скаффолда:\", gaps_count)\n",
    "print(\"Общая длина гэпов самого длинного скаффолда:\", gaps_common_length)"
   ]
  },
  {
   "cell_type": "code",
   "execution_count": 7,
   "id": "2e3d15bc",
   "metadata": {},
   "outputs": [
    {
     "name": "stdout",
     "output_type": "stream",
     "text": [
      "Анализ скаффолдов после gap_close\n",
      "\n",
      "Общее количество скаффолдов: 120\n",
      "Общая длина скаффолдов: 3865401\n",
      "Длина самого длинного скаффолда: 2088042\n",
      "N50: 2088042\n",
      "\n"
     ]
    }
   ],
   "source": [
    "scaffolds_count, scaffolds_common_length, longest_scaffold_length, scaffolds_n50, longest_scaffold, longest_scaffold_count = analyse('../data/Oil4_gapClosed.fa')\n",
    "\n",
    "print(\"Анализ скаффолдов после gap_close\")\n",
    "print()\n",
    "print(\"Общее количество скаффолдов:\", str(scaffolds_count))\n",
    "print(\"Общая длина скаффолдов:\", str(scaffolds_common_length))\n",
    "print(\"Длина самого длинного скаффолда:\", str(longest_scaffold_length))\n",
    "print(\"N50:\", scaffolds_n50)\n",
    "print()\n",
    "# print(\"Количество скаффолдов с максимальной длиной и самый длинный скаффолд\")\n",
    "# longest_scaffold_count, longest_scaffold"
   ]
  },
  {
   "cell_type": "code",
   "execution_count": 8,
   "id": "01d8441d",
   "metadata": {},
   "outputs": [
    {
     "name": "stdout",
     "output_type": "stream",
     "text": [
      "Количество гэпов самого длинного скаффолда (после gap_close): 21\n",
      "Общая длина гэпов самого длинного скаффолда (после gap_close): 5202\n"
     ]
    }
   ],
   "source": [
    "gaps_count, gaps_common_length = longest_scaffold_gaps_analyse(longest_scaffold)\n",
    "print(\"Количество гэпов самого длинного скаффолда (после gap_close):\", gaps_count)\n",
    "print(\"Общая длина гэпов самого длинного скаффолда (после gap_close):\", gaps_common_length)"
   ]
  },
  {
   "cell_type": "code",
   "execution_count": 9,
   "id": "4ee0c388",
   "metadata": {},
   "outputs": [],
   "source": [
    "f = open('../data/longest.fasta', 'w', encoding=\"utf-8\")\n",
    "f.write(longest_scaffold)\n",
    "f.close()"
   ]
  },
  {
   "cell_type": "code",
   "execution_count": null,
   "id": "e4a0915d",
   "metadata": {},
   "outputs": [],
   "source": []
  }
 ],
 "metadata": {
  "kernelspec": {
   "display_name": "Python 3 (ipykernel)",
   "language": "python",
   "name": "python3"
  },
  "language_info": {
   "codemirror_mode": {
    "name": "ipython",
    "version": 3
   },
   "file_extension": ".py",
   "mimetype": "text/x-python",
   "name": "python",
   "nbconvert_exporter": "python",
   "pygments_lexer": "ipython3",
   "version": "3.9.7"
  }
 },
 "nbformat": 4,
 "nbformat_minor": 5
}
